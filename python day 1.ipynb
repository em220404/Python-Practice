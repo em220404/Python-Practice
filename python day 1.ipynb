{
 "cells": [
  {
   "cell_type": "code",
   "execution_count": 1,
   "metadata": {},
   "outputs": [
    {
     "name": "stdout",
     "output_type": "stream",
     "text": [
      "Hello World\n"
     ]
    }
   ],
   "source": [
    "print (\"Hello World\")"
   ]
  },
  {
   "cell_type": "code",
   "execution_count": 2,
   "metadata": {},
   "outputs": [
    {
     "name": "stdout",
     "output_type": "stream",
     "text": [
      "12\n"
     ]
    }
   ],
   "source": [
    "a = 5\n",
    "b = 7\n",
    "print (a+b)"
   ]
  },
  {
   "cell_type": "code",
   "execution_count": 3,
   "metadata": {},
   "outputs": [
    {
     "name": "stdout",
     "output_type": "stream",
     "text": [
      "5 7\n"
     ]
    }
   ],
   "source": [
    "print (a, b)"
   ]
  },
  {
   "cell_type": "code",
   "execution_count": 4,
   "metadata": {},
   "outputs": [],
   "source": [
    "import numpy as np"
   ]
  },
  {
   "cell_type": "code",
   "execution_count": 5,
   "metadata": {},
   "outputs": [
    {
     "name": "stdout",
     "output_type": "stream",
     "text": [
      "{0: 1.3832999933057741, 1: 1.780516863795126, 2: 0.05415989601971761, 3: 2.613948305008049, 4: -1.843179703621607, 5: 1.5707668211471397, 6: -0.6268567273772396}\n"
     ]
    }
   ],
   "source": [
    "data = {i:np.random.randn()for i in range(7)}\n",
    "\n",
    "print (data)"
   ]
  },
  {
   "cell_type": "code",
   "execution_count": 6,
   "metadata": {},
   "outputs": [
    {
     "name": "stdout",
     "output_type": "stream",
     "text": [
      "{-0.663301315897248, 1.8127953739485463, -0.3111860343873836, 0.14648828324575416, -1.3745469932505743, -2.2530494779499053, -1.5468757818854058}\n"
     ]
    }
   ],
   "source": [
    "data = {np.random.randn()for i in range(7)}\n",
    "\n",
    "print (data)"
   ]
  },
  {
   "cell_type": "code",
   "execution_count": 12,
   "metadata": {},
   "outputs": [
    {
     "name": "stdout",
     "output_type": "stream",
     "text": [
      "input some number: 58\n",
      "a is bigger than b\n"
     ]
    }
   ],
   "source": [
    "a = int(input('input some number: '))\n",
    "b = 5\n",
    "\n",
    "if a > b:\n",
    "    print ('a is bigger than b')\n",
    "elif a == b:\n",
    "    print ('a is equal to b')\n",
    "else:\n",
    "    print ('a is less than b')"
   ]
  },
  {
   "cell_type": "code",
   "execution_count": 11,
   "metadata": {},
   "outputs": [
    {
     "name": "stdout",
     "output_type": "stream",
     "text": [
      "input some number: 56\n"
     ]
    }
   ],
   "source": [
    "a = int(input('input some number: '))\n"
   ]
  },
  {
   "cell_type": "code",
   "execution_count": null,
   "metadata": {},
   "outputs": [],
   "source": [
    "a = True\n",
    "\n",
    "if a:\n",
    "    print ('joiasjd')"
   ]
  },
  {
   "cell_type": "code",
   "execution_count": null,
   "metadata": {},
   "outputs": [],
   "source": [
    "a=1\n",
    "for i in range(1,10):\n",
    "    for j in range(1,10):\n",
    "        print (f'{i} * {j} is {i*j}')"
   ]
  },
  {
   "cell_type": "code",
   "execution_count": 24,
   "metadata": {},
   "outputs": [
    {
     "name": "stdout",
     "output_type": "stream",
     "text": [
      "2 * 2 is 4\n"
     ]
    }
   ],
   "source": [
    "print (f'1 * i is {2*2}')"
   ]
  },
  {
   "cell_type": "code",
   "execution_count": null,
   "metadata": {},
   "outputs": [],
   "source": [
    "a=1\n",
    "for i in range(1,10):\n",
    "    for j in range(1,10):\n",
    "        print (i,j)"
   ]
  },
  {
   "cell_type": "code",
   "execution_count": null,
   "metadata": {},
   "outputs": [],
   "source": [
    "for i in range(5,0,-1):\n",
    "    for j in range(i):\n",
    "        print (' ',end='')\n",
    "    for w in range(5-i):\n",
    "        print ('*',end='')\n",
    "    for y in range (4-i):\n",
    "        print ('*',end='')\n",
    "    print()"
   ]
  },
  {
   "cell_type": "code",
   "execution_count": null,
   "metadata": {},
   "outputs": [],
   "source": [
    "for i in range(5,0,-1):\n",
    "    for j in range(4-i):\n",
    "        print ('*',end='')\n",
    "    print()"
   ]
  },
  {
   "cell_type": "code",
   "execution_count": null,
   "metadata": {},
   "outputs": [],
   "source": [
    "for i in range(5,0,-1):\n",
    "    for j in range(i):\n",
    "        print (' ',end='')\n",
    "    for w in range(5-i):\n",
    "        print ('*',end='')\n",
    "    print()"
   ]
  },
  {
   "cell_type": "code",
   "execution_count": null,
   "metadata": {},
   "outputs": [],
   "source": [
    "for i in range(1,10):\n",
    "    for j in range(1,10):\n",
    "        print (f'{i} * {j} is {i*j}')"
   ]
  },
  {
   "cell_type": "code",
   "execution_count": 5,
   "metadata": {},
   "outputs": [
    {
     "name": "stdout",
     "output_type": "stream",
     "text": [
      "5\n"
     ]
    }
   ],
   "source": [
    "a = [1,2,3,4,5]\n",
    "\n",
    "while a:\n",
    "    print(a.pop())\n",
    "    break\n",
    "else:\n",
    "    print('we ended safely')"
   ]
  },
  {
   "cell_type": "code",
   "execution_count": 10,
   "metadata": {},
   "outputs": [
    {
     "name": "stdout",
     "output_type": "stream",
     "text": [
      "enter a number: 4\n",
      "4\n",
      "3\n",
      "2\n",
      "it's two\n"
     ]
    }
   ],
   "source": [
    "a = int(input('enter a number: '))\n",
    "\n",
    "while a:\n",
    "    print(a)\n",
    "    if a == 2:\n",
    "        print(\"it's two\")\n",
    "        break\n",
    "    else:\n",
    "        a = a-1"
   ]
  },
  {
   "cell_type": "code",
   "execution_count": 12,
   "metadata": {},
   "outputs": [
    {
     "name": "stdout",
     "output_type": "stream",
     "text": [
      "enter a number: 5\n",
      "it's an odd number\n",
      "it's an even number\n",
      "it's an odd number\n",
      "it's an even number\n",
      "it's an odd number\n"
     ]
    }
   ],
   "source": [
    "a = int(input('enter a number: '))\n",
    "\n",
    "while a:\n",
    "    if a%2 == 0:\n",
    "        print(\"it's an even number\")\n",
    "        a = a-1\n",
    "        continue\n",
    "    print(\"it's an odd number\")\n",
    "    a = a-1"
   ]
  },
  {
   "cell_type": "code",
   "execution_count": 27,
   "metadata": {},
   "outputs": [
    {
     "name": "stdout",
     "output_type": "stream",
     "text": [
      "The weather in seoul is Mist\n",
      "The temperature in seoul is now 276.82\n"
     ]
    }
   ],
   "source": [
    "import requests as rq\n",
    "import os\n",
    "import sys\n",
    "\n",
    "API = '5da4af11f12e1928506a8378ef49884b'\n",
    "CITY = 'seoul'\n",
    "req_url = f'http://api.openweathermap.org/data/2.5/weather?q={CITY}&appid={API}'\n",
    "\n",
    "response = rq.get(req_url)\n",
    "\n",
    "WEATHER = response.json()['weather'][0]['main']\n",
    "temp = response.json()['main']['temp']\n",
    "\n",
    "print(f'The weather in {CITY} is {WEATHER}')\n",
    "print(f'The temperature in {CITY} is now {temp}')"
   ]
  },
  {
   "cell_type": "code",
   "execution_count": null,
   "metadata": {},
   "outputs": [],
   "source": [
    "a = int(input('Enter your guess: '))\n",
    "\n",
    "import random\n",
    "while a:\n",
    "    if a == random.randint(1,100):\n",
    "        print(\"That's correct!\")\n",
    "        break\n",
    "    else:\n",
    "        print('Not the correct answer!')\n",
    "        g = g-1"
   ]
  },
  {
   "cell_type": "code",
   "execution_count": null,
   "metadata": {},
   "outputs": [],
   "source": [
    "import random\n",
    "\n",
    "b = random.randint(1,100)\n",
    "c = int(input('Enter the amount of guesses you want: '))\n",
    "\n",
    "while c:\n",
    "    a = int(input('Enter your guess: '))\n",
    "    if a == b:\n",
    "        print(\"That's correct!\")\n",
    "        break\n",
    "    else:\n",
    "        if a>b:\n",
    "            print('Lower')\n",
    "        else:\n",
    "            print('Higher')\n",
    "        c = c-1"
   ]
  },
  {
   "cell_type": "code",
   "execution_count": null,
   "metadata": {},
   "outputs": [],
   "source": []
  }
 ],
 "metadata": {
  "kernelspec": {
   "display_name": "Python 3",
   "language": "python",
   "name": "python3"
  },
  "language_info": {
   "codemirror_mode": {
    "name": "ipython",
    "version": 3
   },
   "file_extension": ".py",
   "mimetype": "text/x-python",
   "name": "python",
   "nbconvert_exporter": "python",
   "pygments_lexer": "ipython3",
   "version": "3.8.5"
  }
 },
 "nbformat": 4,
 "nbformat_minor": 4
}
