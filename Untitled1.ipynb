{
 "cells": [
  {
   "cell_type": "code",
   "execution_count": 1,
   "metadata": {},
   "outputs": [
    {
     "name": "stdout",
     "output_type": "stream",
     "text": [
      "enter number: 5\n",
      "1 * 5 is 5\n",
      "2 * 5 is 10\n",
      "3 * 5 is 15\n",
      "4 * 5 is 20\n",
      "5 * 5 is 25\n",
      "6 * 5 is 30\n",
      "7 * 5 is 35\n",
      "8 * 5 is 40\n",
      "9 * 5 is 45\n"
     ]
    }
   ],
   "source": [
    "a = int(input('enter number: '))\n",
    "\n",
    "for i in range(1,10):\n",
    "    print (f'{i} * {a} is {i*a}')"
   ]
  },
  {
   "cell_type": "code",
   "execution_count": 3,
   "metadata": {},
   "outputs": [
    {
     "name": "stdout",
     "output_type": "stream",
     "text": [
      "enter number: 2\n",
      "yes\n",
      "yes\n"
     ]
    }
   ],
   "source": [
    "a = int(input('enter number: '))\n",
    "\n",
    "while a > 0:\n",
    "    print ('yes')\n",
    "    a = a - 1"
   ]
  },
  {
   "cell_type": "code",
   "execution_count": null,
   "metadata": {},
   "outputs": [],
   "source": []
  }
 ],
 "metadata": {
  "kernelspec": {
   "display_name": "Python 3",
   "language": "python",
   "name": "python3"
  },
  "language_info": {
   "codemirror_mode": {
    "name": "ipython",
    "version": 3
   },
   "file_extension": ".py",
   "mimetype": "text/x-python",
   "name": "python",
   "nbconvert_exporter": "python",
   "pygments_lexer": "ipython3",
   "version": "3.8.5"
  }
 },
 "nbformat": 4,
 "nbformat_minor": 4
}
