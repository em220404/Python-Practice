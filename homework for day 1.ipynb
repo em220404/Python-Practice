{
 "cells": [
  {
   "cell_type": "code",
   "execution_count": null,
   "metadata": {},
   "outputs": [],
   "source": []
  },
  {
   "cell_type": "code",
   "execution_count": 4,
   "metadata": {},
   "outputs": [
    {
     "name": "stdout",
     "output_type": "stream",
     "text": [
      "Guess the random number!\n",
      "\n",
      "Enter the amount of guesses you want: 30\n",
      "\n",
      "Enter your guess: 10\n",
      "Higher\n",
      "\n",
      "Enter your guess: 20\n",
      "Higher\n",
      "\n",
      "Enter your guess: 30\n",
      "Higher\n",
      "\n",
      "Enter your guess: 50\n",
      "Lower\n",
      "\n",
      "Enter your guess: 40\n",
      "Lower\n",
      "\n",
      "Enter your guess: 33\n",
      "Higher\n",
      "\n",
      "Enter your guess: 34\n",
      "Higher\n",
      "\n",
      "Enter your guess: 35\n",
      "Higher\n",
      "\n",
      "Enter your guess: 37\n",
      "That's correct!\n"
     ]
    }
   ],
   "source": [
    "print('Guess the random number!')\n",
    "print()\n",
    "import random\n",
    "\n",
    "b = random.randint(1,100)\n",
    "c = int(input('Enter the amount of guesses you want: '))\n",
    "print()\n",
    "\n",
    "while c:\n",
    "    a = int(input('Enter your guess: '))\n",
    "    if a == b:\n",
    "        print(\"That's correct!\")\n",
    "        break\n",
    "    else:\n",
    "        if a>b:\n",
    "            print('Lower')\n",
    "            print()\n",
    "        else:\n",
    "            print('Higher')\n",
    "            print()\n",
    "        c = c-1\n",
    "if a != b:\n",
    "    print(f'{b} was the correct number')"
   ]
  },
  {
   "cell_type": "code",
   "execution_count": null,
   "metadata": {},
   "outputs": [],
   "source": []
  },
  {
   "cell_type": "code",
   "execution_count": null,
   "metadata": {},
   "outputs": [],
   "source": []
  }
 ],
 "metadata": {
  "kernelspec": {
   "display_name": "Python 3",
   "language": "python",
   "name": "python3"
  }
 },
 "nbformat": 4,
 "nbformat_minor": 4
}
